{
 "cells": [
  {
   "cell_type": "markdown",
   "metadata": {},
   "source": [
    "# Sustainability\n",
    "\n",
    "TalTech guest lecture at Riga Technical University, November 25th, 2024\n",
    "\n",
    "Helen Soovali-Sepping\n",
    "\n",
    "\n",
    "\n"
   ]
  },
  {
   "cell_type": "markdown",
   "metadata": {},
   "source": [
    "## Notes\n",
    "\n",
    "* Estonia - Green Dragon? Initiatives in Estonia\n",
    "100+ network of private and public sector organizations\n",
    "\n",
    "### Sustainability - what is it?\n",
    "\n",
    "* 3 pillars: economic, social, environmental\n",
    "\n",
    "### Personal view of Helen on sustainability and role of University in it\n",
    "\n",
    "Sustainability is a buzzword, but it is important. There is ambiguity in the term, but it is important to have a common understanding of it.\n",
    "\n",
    "3 words to describe sustainability in Estonia....\n",
    "\n",
    "### Universities less than Private Sector\n",
    "\n",
    "Universities have been slower to adopt sustainability than private sector. But they are catching up. It is also question of funding.\n",
    "\n",
    "### Joke \n",
    "\n",
    "What organization is more conservative than the Catholic Church? The University."
   ]
  },
  {
   "cell_type": "markdown",
   "metadata": {},
   "source": [
    "### TalTech\n",
    "\n",
    "* 8,846 students  10% international\n",
    "* 2,050 employees\n",
    "* 1,249 publications\n",
    "* 82,507 alumni - 3.7% international\n",
    "\n",
    "Hot topic in Estonia: Why are young people failing in Mathematics?"
   ]
  },
  {
   "cell_type": "markdown",
   "metadata": {},
   "source": [
    "## KPI - 2035\n",
    "\n",
    "### Goal - Climate Neutral University by 2035\n",
    "\n",
    "### Teaching and Learning\n",
    "\n",
    "* 100% of students have sustainability in their curriculum\n",
    "* Continuous education for staff and students\n",
    "\n",
    "### Research\n",
    "\n",
    "* Increase in research in sustainability\n",
    "* More PhDs in sustainability"
   ]
  }
 ],
 "metadata": {
  "language_info": {
   "name": "python"
  }
 },
 "nbformat": 4,
 "nbformat_minor": 2
}
