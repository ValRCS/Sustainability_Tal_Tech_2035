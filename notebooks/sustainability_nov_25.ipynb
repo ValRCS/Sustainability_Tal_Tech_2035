{
 "cells": [
  {
   "cell_type": "markdown",
   "metadata": {},
   "source": [
    "# Sustainability in Estonia, TalTech guest lecture at Riga Technical University, November 25th, 2024\n",
    "\n",
    "TalTech guest lecture at Riga Technical University, November 25th, 2024\n",
    "\n",
    "Helen Soovali-Sepping\n",
    "\n",
    "## Definitions\n",
    "\n",
    "### Sustainability\n",
    "\n",
    "Sustainability is the ability to exist constantly. In the 21st century, it refers generally to the capacity for the biosphere and human civilization to coexist. It is also defined as the process of people maintaining change in a homeostasis balanced environment, in which the exploitation of resources, the direction of investments, the orientation of technological development and institutional change are all in harmony and enhance both current and future potential to meet human needs and aspirations. For many in the field, sustainability is defined through the following interconnected domains or pillars: environment, economic and social, which according to Fritjof Capra is based on the principles of systems thinking.\n",
    "\n",
    "### Green Skills\n",
    "\n",
    "Green skills are the knowledge, abilities, values and attitudes needed to live in, develop and support a sustainable and resource-efficient society. They are essential for the transition to a green economy and society. Green skills are needed in all sectors of the economy and at all levels of education and training. They are also important for the development of new green jobs and the greening of existing jobs.\n",
    "\n",
    "\n",
    "\n"
   ]
  },
  {
   "cell_type": "markdown",
   "metadata": {},
   "source": [
    "## Notes\n",
    "\n",
    "* Estonia - Green Dragon? Initiatives in Estonia\n",
    "100+ network of private and public sector organizations\n",
    "\n",
    "### Sustainability - what is it?\n",
    "\n",
    "* 3 pillars: economic, social, environmental\n",
    "\n",
    "### Personal view of Helen on sustainability and role of University in it\n",
    "\n",
    "Sustainability is a buzzword, but it is important. There is ambiguity in the term, but it is important to have a common understanding of it.\n",
    "\n",
    "3 words to describe sustainability in Estonia....\n",
    "\n",
    "### Universities less than Private Sector\n",
    "\n",
    "Universities have been slower to adopt sustainability than private sector. But they are catching up. It is also question of funding.\n",
    "\n",
    "### Joke \n",
    "\n",
    "What organization is more conservative than the Catholic Church? The University."
   ]
  },
  {
   "cell_type": "markdown",
   "metadata": {},
   "source": [
    "### TalTech\n",
    "\n",
    "* 8,846 students  10% international\n",
    "* 2,050 employees\n",
    "* 1,249 publications\n",
    "* 82,507 alumni - 3.7% international\n",
    "\n",
    "Hot topic in Estonia: Why are young people failing in Mathematics?"
   ]
  },
  {
   "cell_type": "markdown",
   "metadata": {},
   "source": [
    "## KPI - 2035\n",
    "\n",
    "### Goal - Climate Neutral University by 2035\n",
    "\n",
    "### Teaching and Learning\n",
    "\n",
    "* 100% of students have sustainability in their curriculum\n",
    "* Continuous education for staff and students\n",
    "\n",
    "### Research\n",
    "\n",
    "* Increase in research in sustainability\n",
    "* More PhDs in sustainability\n",
    "\n",
    "### Sustainable Campus\n",
    "\n",
    "* 100% of campus is climate neutral\n",
    "* Footprint of campus is reduced\n",
    "\n",
    "### Share of Voice (SoV)\n",
    "\n",
    "* % of SoV in sustainability in 2025 and 2035"
   ]
  },
  {
   "cell_type": "markdown",
   "metadata": {},
   "source": [
    "## Regulations\n",
    "\n",
    "* Green strategy 2023-2025\n",
    "* Biodiversity strategy 2023-2025\n",
    "* Good practices for environmentally friendly events\n",
    "\n",
    "\n",
    "### Sustainability in Teaching\n",
    "\n",
    "* EUROTEQ course Sustainable Futures\n",
    "* Upskilling of Staff\n",
    "* Study curriculum - MSc - Green Technologies - Suistainable Entrepreneurship - Suistainability leadership"
   ]
  },
  {
   "cell_type": "markdown",
   "metadata": {},
   "source": [
    "### Funding - Just Transition Fund\n",
    "\n",
    "For Border Towns - Narva, Kohtla-Järve, Sillamäe\n",
    "collages, and skilling there\n",
    "\n",
    "Some courses actually take course in Tallinn, but students are from Narva or other border towns. That needs to be improved."
   ]
  },
  {
   "cell_type": "markdown",
   "metadata": {},
   "source": [
    "## TalTech works on\n",
    "\n",
    "* general skills and specialty-specific green skills\n",
    "\n",
    "* measurement methods for sustainability(LCA, CO2 footprint)\n",
    "* ESG - Environmental, Social, Governance\n",
    "* CSR - Corporate Social Responsibility\n",
    "* digital twin for sustainability\n",
    "* value chains and principles of circular economy"
   ]
  },
  {
   "cell_type": "markdown",
   "metadata": {},
   "source": [
    "## Need for  Critical Thinking\n",
    "\n",
    "* only 20% of students for lecturer have admitted to watching news\n",
    "* where do they get their information from?\n",
    "\n",
    "### Missing\n",
    "\n",
    "* adaptability\n",
    "* resilience\n",
    "* sustainability and growth mindset"
   ]
  },
  {
   "cell_type": "markdown",
   "metadata": {
    "vscode": {
     "languageId": "plaintext"
    }
   },
   "source": [
    "## Case studies, pilot projects\n",
    "\n",
    "Real estate development is progressing the most mostly due to new reglamentations and the need to reduce energy consumption. \n",
    "\n",
    "TODO: see actual case studies"
   ]
  },
  {
   "cell_type": "markdown",
   "metadata": {},
   "source": []
  }
 ],
 "metadata": {
  "language_info": {
   "name": "python"
  }
 },
 "nbformat": 4,
 "nbformat_minor": 2
}
