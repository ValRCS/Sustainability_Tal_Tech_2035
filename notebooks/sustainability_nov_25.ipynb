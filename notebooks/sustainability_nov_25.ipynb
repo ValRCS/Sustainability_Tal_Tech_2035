{
 "cells": [
  {
   "cell_type": "markdown",
   "metadata": {},
   "source": [
    "# Sustainability\n",
    "\n",
    "TalTech guest lecture at Riga Technical University, November 25th, 2024\n",
    "\n",
    "Helen Soovali-Sepping\n",
    "\n",
    "\n",
    "\n"
   ]
  },
  {
   "cell_type": "markdown",
   "metadata": {},
   "source": [
    "## Notes\n",
    "\n",
    "* Estonia - Green Dragon? Initiatives in Estonia\n",
    "100+ network of private and public sector organizations\n",
    "\n",
    "### Sustainibility - what is it?\n",
    "\n",
    "* 3 pillars: economic, social, environmental\n",
    "\n",
    "### Personal view of Helen on sustainability and role of University in it\n",
    "\n",
    "Sustainability is a buzzword, but it is important. There is ambiguity in the term, but it is important to have a common understanding of it.\n",
    "\n",
    "3 words to describe sustainability in Estonia....\n",
    "\n",
    "### Universities less than Private Sector\n",
    "\n",
    "Universities have been slower to adopt sustainability than private sector. But they are catching up. It is also question of funding."
   ]
  }
 ],
 "metadata": {
  "language_info": {
   "name": "python"
  }
 },
 "nbformat": 4,
 "nbformat_minor": 2
}
