{
 "cells": [
  {
   "cell_type": "markdown",
   "metadata": {},
   "source": [
    "# Sustainability\n",
    "\n",
    "TalTech guest lecture at Riga Technical University, November 25th, 2024\n",
    "\n",
    "Helen Soovali-Sepping\n",
    "\n"
   ]
  }
 ],
 "metadata": {
  "language_info": {
   "name": "python"
  }
 },
 "nbformat": 4,
 "nbformat_minor": 2
}
